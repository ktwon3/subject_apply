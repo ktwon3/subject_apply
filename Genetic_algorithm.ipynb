{
 "cells": [
  {
   "cell_type": "markdown",
   "id": "6edcb911",
   "metadata": {
    "hide_input": false
   },
   "source": [
    "<h1>gene"
   ]
  },
  {
   "cell_type": "code",
   "execution_count": 2,
   "id": "ec33c3d8",
   "metadata": {
    "ExecuteTime": {
     "end_time": "2021-08-29T15:17:07.385164Z",
     "start_time": "2021-08-29T15:17:07.164808Z"
    },
    "hide_input": false
   },
   "outputs": [],
   "source": [
    "import numpy as np\n",
    "import random, pickle\n",
    "import utill, student_class, apply_subject\n",
    "from basic_var import SPC, NOSD, NOB, NOSJ\n",
    "\n",
    "class Gene:\n",
    "    def __init__(self, student_num):\n",
    "        self.gene = np.array([i for i in range(0, NOB)])\n",
    "        np.random.shuffle(self.gene)\n",
    "        self.student_num = student_num  # 0번부터\n",
    "        with open('students.txt', 'rb') as f:\n",
    "            self.students = pickle.load(f)\n",
    "\n",
    "    def remake_student(self):  # 유전자 바탕의 새로운 student 만들기\n",
    "        new_student_subject = []\n",
    "        target_student = self.students[self.student_num].return_sub()\n",
    "        for i in self.gene:\n",
    "            new_student_subject.append(target_student[i])\n",
    "        new_student = student_class.Student(new_student_subject)\n",
    "        self.students[self.student_num] = new_student\n",
    "\n",
    "    def __repr__(self):\n",
    "        return '<student: ' + str(self.student_num) + ', gene: ' + str(self.gene) + '>'\n",
    "\n",
    "\n",
    "    def calculate_fitness(self):\n",
    "        # 비용 문제는 나중에 수정\n",
    "        apply_result = apply_subject.apply(self.students, NOSD, NOB, 50, False)\n",
    "        self.fitness = NOB - len(apply_result[self.student_num].keys())\n",
    "\n",
    "\n",
    "    def mutate(self):\n",
    "        a,b = random.sample([i for i in range(0, len(self.gene))], 2)\n",
    "        self.gene[a], self.gene[b] = self.gene[b], self.gene[a]\n",
    "\n",
    "\n",
    "\n",
    "if __name__ == \"__main__\":\n",
    "\n",
    "    c = Gene(1)\n",
    "    c.remake_student()\n",
    "    c.calculate_fitness()\n"
   ]
  },
  {
   "cell_type": "markdown",
   "id": "511c472b",
   "metadata": {},
   "source": [
    "<h1>genetic_alogrithm"
   ]
  },
  {
   "cell_type": "code",
   "execution_count": 3,
   "id": "90b530fa",
   "metadata": {
    "ExecuteTime": {
     "end_time": "2021-08-29T15:17:08.434426Z",
     "start_time": "2021-08-29T15:17:08.358409Z"
    },
    "hide_input": false
   },
   "outputs": [],
   "source": [
    "class Genetic_algorithm:\n",
    "    def __init__(self, student_num, population=30, mutation_chance=0.015):\n",
    "        self.population = population\n",
    "        self.mutation_chance = mutation_chance\n",
    "        self.gene_list = []\n",
    "        self.student_num = student_num\n",
    "\n",
    "    def reset(self):\n",
    "        for i in range(0, self.population):\n",
    "            self.gene_list.append(Gene(self.student_num))\n",
    "\n",
    "    def evolution(self):\n",
    "        print('initial :' + str(self.mean_fitness()))\n",
    "        fit_list = []\n",
    "        \n",
    "        for _ in range(1, 101):\n",
    "            self.select()\n",
    "\n",
    "            self.cross()\n",
    "\n",
    "            self.mutate()\n",
    "            \n",
    "            mean = self.mean_fitness()\n",
    "            print('prograss ' + str(_) + '/100\\tfitness : ' + str(mean) )\n",
    "            \n",
    "            fit_list.append(mean)\n",
    "        \n",
    "        return fit_list\n",
    "        \n",
    "            \n",
    "    \n",
    "\n",
    "    def select(self):\n",
    "        self.roulette_wheel()\n",
    "\n",
    "    def roulette_wheel(self):\n",
    "        # 전처리\n",
    "        self.parents = []\n",
    "        gene_list = self.gene_list[:]\n",
    "        self.calculate_all_fitness()\n",
    "        while True:\n",
    "            gene = self.roulette_wheel_onetime(gene_list)\n",
    "            self.parents.append(gene.gene)  # copy를 피하기 위해 subject 형태로 저장\n",
    "            #if len(self.parents) >= len(self.gene_list) / 2:\n",
    "            #    return\n",
    "            if len(self.parents) >= 2: return\n",
    "            gene_list.remove(gene)\n",
    "    \n",
    "    def calculate_all_fitness(self):\n",
    "        for gene in self.gene_list:\n",
    "            gene.remake_student()\n",
    "            gene.calculate_fitness()\n",
    "        \n",
    "\n",
    "    def roulette_wheel_onetime(self, gene_list):\n",
    "        fitness_list = []\n",
    "        for gene in gene_list:\n",
    "            fitness_list.append(gene.fitness)\n",
    "\n",
    "        # 비용 => fitness 변환\n",
    "        while True:\n",
    "            k = 3  # 선택압\n",
    "            max_var, min_var = max(fitness_list), min(fitness_list)\n",
    "            a = lambda x: (max_var - x) + (max_var - min_var) / (k - 1)\n",
    "            fitness_list = list(map(a, fitness_list))\n",
    "\n",
    "            # 룰렛휠 선택\n",
    "            sum_fitness = sum(fitness_list)\n",
    "            if sum_fitness == 0:\n",
    "                print(gene_list)\n",
    "                print('sum_fitness is 0')\n",
    "                return gene_list[0]\n",
    "            before_sum = 0\n",
    "            target = random.random()\n",
    "            for i in range(0, len(fitness_list)):\n",
    "                fitness = fitness_list[i]\n",
    "                probality = before_sum + fitness / sum_fitness\n",
    "                if probality < target:\n",
    "                    return gene_list[i]\n",
    "\n",
    "    def cross(self):\n",
    "        self.cycle_cross()\n",
    "\n",
    "    def cycle_cross(self):\n",
    "        for i in range(0, self.population):\n",
    "            sub1, sub2 = random.sample(self.parents, 2)\n",
    "            sub_list = [sub1, sub2]\n",
    "            main_sub, sub_sub = sub_list[0], sub_list[1]\n",
    "            gene = [-1] * 10\n",
    "            while -1 in gene:\n",
    "                inx_list = [i for i, value in enumerate(gene) if value == -1]\n",
    "                inx = random.choice(inx_list)\n",
    "                used_num = []\n",
    "                while True:\n",
    "                    target_num = main_sub[inx]\n",
    "                    if target_num in used_num: break\n",
    "                    gene[inx] = target_num\n",
    "                    used_num.append(target_num)\n",
    "                    inx = list(sub_sub).index(target_num)\n",
    "                main_sub, sub_sub = sub_sub, main_sub\n",
    "            self.gene_list[i].gene = gene\n",
    "\n",
    "    def mutate(self):\n",
    "        #전형적 변이\n",
    "        mutation_chance = self.mutation_chance\n",
    "        for i in range(0, len(self.gene_list)):\n",
    "            if random.random() < mutation_chance:\n",
    "                self.gene_list[i].mutate()\n",
    "    \n",
    "    def mean_fitness(self):\n",
    "        self.calculate_all_fitness()\n",
    "        fitness_list = []\n",
    "        for gene in self.gene_list:\n",
    "            fitness_list.append(gene.fitness)\n",
    "        \n",
    "        return round(sum(fitness_list) / len(fitness_list), 3)\n",
    "        \n",
    "        "
   ]
  },
  {
   "cell_type": "markdown",
   "id": "9b7739fa",
   "metadata": {},
   "source": [
    "<h1> test"
   ]
  },
  {
   "cell_type": "code",
   "execution_count": 4,
   "id": "15fc8f7d",
   "metadata": {
    "ExecuteTime": {
     "end_time": "2021-08-29T15:17:09.478790Z",
     "start_time": "2021-08-29T15:17:09.377154Z"
    }
   },
   "outputs": [],
   "source": [
    "temp = Genetic_algorithm(20)\n",
    "temp.reset()\n"
   ]
  },
  {
   "cell_type": "code",
   "execution_count": 5,
   "id": "2b704863",
   "metadata": {
    "ExecuteTime": {
     "end_time": "2021-08-29T15:24:55.999017Z",
     "start_time": "2021-08-29T15:17:09.978383Z"
    },
    "scrolled": true
   },
   "outputs": [
    {
     "name": "stdout",
     "output_type": "stream",
     "text": [
      "initial :0.267\n",
      "prograss 1/100\tfitness : 0.533\n",
      "prograss 2/100\tfitness : 0.267\n",
      "prograss 3/100\tfitness : 0.433\n",
      "prograss 4/100\tfitness : 0.333\n",
      "prograss 5/100\tfitness : 0.433\n",
      "prograss 6/100\tfitness : 0.433\n",
      "prograss 7/100\tfitness : 0.5\n",
      "prograss 8/100\tfitness : 0.367\n",
      "prograss 9/100\tfitness : 0.3\n",
      "prograss 10/100\tfitness : 0.433\n",
      "prograss 11/100\tfitness : 0.233\n",
      "prograss 12/100\tfitness : 0.367\n",
      "prograss 13/100\tfitness : 0.167\n",
      "prograss 14/100\tfitness : 0.4\n",
      "prograss 15/100\tfitness : 0.4\n",
      "prograss 16/100\tfitness : 0.333\n",
      "prograss 17/100\tfitness : 0.367\n",
      "prograss 18/100\tfitness : 0.433\n",
      "prograss 19/100\tfitness : 0.3\n",
      "prograss 20/100\tfitness : 0.267\n",
      "prograss 21/100\tfitness : 0.333\n",
      "prograss 22/100\tfitness : 0.367\n",
      "prograss 23/100\tfitness : 0.333\n",
      "prograss 24/100\tfitness : 0.233\n",
      "prograss 25/100\tfitness : 0.4\n",
      "prograss 26/100\tfitness : 0.367\n",
      "prograss 27/100\tfitness : 0.6\n",
      "prograss 28/100\tfitness : 0.3\n",
      "prograss 29/100\tfitness : 0.333\n",
      "prograss 30/100\tfitness : 0.5\n",
      "prograss 31/100\tfitness : 0.2\n",
      "prograss 32/100\tfitness : 0.4\n",
      "prograss 33/100\tfitness : 0.467\n",
      "prograss 34/100\tfitness : 0.5\n",
      "prograss 35/100\tfitness : 0.4\n",
      "prograss 36/100\tfitness : 0.467\n",
      "prograss 37/100\tfitness : 0.333\n",
      "prograss 38/100\tfitness : 0.633\n",
      "prograss 39/100\tfitness : 0.267\n",
      "prograss 40/100\tfitness : 0.367\n",
      "prograss 41/100\tfitness : 0.367\n",
      "prograss 42/100\tfitness : 0.467\n",
      "prograss 43/100\tfitness : 0.167\n",
      "prograss 44/100\tfitness : 0.367\n",
      "prograss 45/100\tfitness : 0.433\n"
     ]
    },
    {
     "ename": "KeyboardInterrupt",
     "evalue": "",
     "output_type": "error",
     "traceback": [
      "\u001b[1;31m---------------------------------------------------------------------------\u001b[0m",
      "\u001b[1;31mKeyboardInterrupt\u001b[0m                         Traceback (most recent call last)",
      "\u001b[1;32mC:\\Users\\Public\\Documents\\ESTsoft\\CreatorTemp/ipykernel_13124/1867654420.py\u001b[0m in \u001b[0;36m<module>\u001b[1;34m\u001b[0m\n\u001b[1;32m----> 1\u001b[1;33m \u001b[0mfit_list\u001b[0m \u001b[1;33m=\u001b[0m \u001b[0mtemp\u001b[0m\u001b[1;33m.\u001b[0m\u001b[0mevolution\u001b[0m\u001b[1;33m(\u001b[0m\u001b[1;33m)\u001b[0m\u001b[1;33m\u001b[0m\u001b[1;33m\u001b[0m\u001b[0m\n\u001b[0m",
      "\u001b[1;32mC:\\Users\\Public\\Documents\\ESTsoft\\CreatorTemp/ipykernel_13124/3376547309.py\u001b[0m in \u001b[0;36mevolution\u001b[1;34m(self)\u001b[0m\n\u001b[0;32m     21\u001b[0m             \u001b[0mself\u001b[0m\u001b[1;33m.\u001b[0m\u001b[0mmutate\u001b[0m\u001b[1;33m(\u001b[0m\u001b[1;33m)\u001b[0m\u001b[1;33m\u001b[0m\u001b[1;33m\u001b[0m\u001b[0m\n\u001b[0;32m     22\u001b[0m \u001b[1;33m\u001b[0m\u001b[0m\n\u001b[1;32m---> 23\u001b[1;33m             \u001b[0mmean\u001b[0m \u001b[1;33m=\u001b[0m \u001b[0mself\u001b[0m\u001b[1;33m.\u001b[0m\u001b[0mmean_fitness\u001b[0m\u001b[1;33m(\u001b[0m\u001b[1;33m)\u001b[0m\u001b[1;33m\u001b[0m\u001b[1;33m\u001b[0m\u001b[0m\n\u001b[0m\u001b[0;32m     24\u001b[0m             \u001b[0mprint\u001b[0m\u001b[1;33m(\u001b[0m\u001b[1;34m'prograss '\u001b[0m \u001b[1;33m+\u001b[0m \u001b[0mstr\u001b[0m\u001b[1;33m(\u001b[0m\u001b[0m_\u001b[0m\u001b[1;33m)\u001b[0m \u001b[1;33m+\u001b[0m \u001b[1;34m'/100\\tfitness : '\u001b[0m \u001b[1;33m+\u001b[0m \u001b[0mstr\u001b[0m\u001b[1;33m(\u001b[0m\u001b[0mmean\u001b[0m\u001b[1;33m)\u001b[0m \u001b[1;33m)\u001b[0m\u001b[1;33m\u001b[0m\u001b[1;33m\u001b[0m\u001b[0m\n\u001b[0;32m     25\u001b[0m \u001b[1;33m\u001b[0m\u001b[0m\n",
      "\u001b[1;32mC:\\Users\\Public\\Documents\\ESTsoft\\CreatorTemp/ipykernel_13124/3376547309.py\u001b[0m in \u001b[0;36mmean_fitness\u001b[1;34m(self)\u001b[0m\n\u001b[0;32m    109\u001b[0m \u001b[1;33m\u001b[0m\u001b[0m\n\u001b[0;32m    110\u001b[0m     \u001b[1;32mdef\u001b[0m \u001b[0mmean_fitness\u001b[0m\u001b[1;33m(\u001b[0m\u001b[0mself\u001b[0m\u001b[1;33m)\u001b[0m\u001b[1;33m:\u001b[0m\u001b[1;33m\u001b[0m\u001b[1;33m\u001b[0m\u001b[0m\n\u001b[1;32m--> 111\u001b[1;33m         \u001b[0mself\u001b[0m\u001b[1;33m.\u001b[0m\u001b[0mcalculate_all_fitness\u001b[0m\u001b[1;33m(\u001b[0m\u001b[1;33m)\u001b[0m\u001b[1;33m\u001b[0m\u001b[1;33m\u001b[0m\u001b[0m\n\u001b[0m\u001b[0;32m    112\u001b[0m         \u001b[0mfitness_list\u001b[0m \u001b[1;33m=\u001b[0m \u001b[1;33m[\u001b[0m\u001b[1;33m]\u001b[0m\u001b[1;33m\u001b[0m\u001b[1;33m\u001b[0m\u001b[0m\n\u001b[0;32m    113\u001b[0m         \u001b[1;32mfor\u001b[0m \u001b[0mgene\u001b[0m \u001b[1;32min\u001b[0m \u001b[0mself\u001b[0m\u001b[1;33m.\u001b[0m\u001b[0mgene_list\u001b[0m\u001b[1;33m:\u001b[0m\u001b[1;33m\u001b[0m\u001b[1;33m\u001b[0m\u001b[0m\n",
      "\u001b[1;32mC:\\Users\\Public\\Documents\\ESTsoft\\CreatorTemp/ipykernel_13124/3376547309.py\u001b[0m in \u001b[0;36mcalculate_all_fitness\u001b[1;34m(self)\u001b[0m\n\u001b[0;32m     50\u001b[0m         \u001b[1;32mfor\u001b[0m \u001b[0mgene\u001b[0m \u001b[1;32min\u001b[0m \u001b[0mself\u001b[0m\u001b[1;33m.\u001b[0m\u001b[0mgene_list\u001b[0m\u001b[1;33m:\u001b[0m\u001b[1;33m\u001b[0m\u001b[1;33m\u001b[0m\u001b[0m\n\u001b[0;32m     51\u001b[0m             \u001b[0mgene\u001b[0m\u001b[1;33m.\u001b[0m\u001b[0mremake_student\u001b[0m\u001b[1;33m(\u001b[0m\u001b[1;33m)\u001b[0m\u001b[1;33m\u001b[0m\u001b[1;33m\u001b[0m\u001b[0m\n\u001b[1;32m---> 52\u001b[1;33m             \u001b[0mgene\u001b[0m\u001b[1;33m.\u001b[0m\u001b[0mcalculate_fitness\u001b[0m\u001b[1;33m(\u001b[0m\u001b[1;33m)\u001b[0m\u001b[1;33m\u001b[0m\u001b[1;33m\u001b[0m\u001b[0m\n\u001b[0m\u001b[0;32m     53\u001b[0m \u001b[1;33m\u001b[0m\u001b[0m\n\u001b[0;32m     54\u001b[0m \u001b[1;33m\u001b[0m\u001b[0m\n",
      "\u001b[1;32mC:\\Users\\Public\\Documents\\ESTsoft\\CreatorTemp/ipykernel_13124/2309613664.py\u001b[0m in \u001b[0;36mcalculate_fitness\u001b[1;34m(self)\u001b[0m\n\u001b[0;32m     26\u001b[0m     \u001b[1;32mdef\u001b[0m \u001b[0mcalculate_fitness\u001b[0m\u001b[1;33m(\u001b[0m\u001b[0mself\u001b[0m\u001b[1;33m)\u001b[0m\u001b[1;33m:\u001b[0m\u001b[1;33m\u001b[0m\u001b[1;33m\u001b[0m\u001b[0m\n\u001b[0;32m     27\u001b[0m         \u001b[1;31m# 비용 문제는 나중에 수정\u001b[0m\u001b[1;33m\u001b[0m\u001b[1;33m\u001b[0m\u001b[1;33m\u001b[0m\u001b[0m\n\u001b[1;32m---> 28\u001b[1;33m         \u001b[0mapply_result\u001b[0m \u001b[1;33m=\u001b[0m \u001b[0mapply_subject\u001b[0m\u001b[1;33m.\u001b[0m\u001b[0mapply\u001b[0m\u001b[1;33m(\u001b[0m\u001b[0mself\u001b[0m\u001b[1;33m.\u001b[0m\u001b[0mstudents\u001b[0m\u001b[1;33m,\u001b[0m \u001b[0mNOSD\u001b[0m\u001b[1;33m,\u001b[0m \u001b[0mNOB\u001b[0m\u001b[1;33m,\u001b[0m \u001b[1;36m50\u001b[0m\u001b[1;33m,\u001b[0m \u001b[1;32mFalse\u001b[0m\u001b[1;33m)\u001b[0m\u001b[1;33m\u001b[0m\u001b[1;33m\u001b[0m\u001b[0m\n\u001b[0m\u001b[0;32m     29\u001b[0m         \u001b[0mself\u001b[0m\u001b[1;33m.\u001b[0m\u001b[0mfitness\u001b[0m \u001b[1;33m=\u001b[0m \u001b[0mNOB\u001b[0m \u001b[1;33m-\u001b[0m \u001b[0mlen\u001b[0m\u001b[1;33m(\u001b[0m\u001b[0mapply_result\u001b[0m\u001b[1;33m[\u001b[0m\u001b[0mself\u001b[0m\u001b[1;33m.\u001b[0m\u001b[0mstudent_num\u001b[0m\u001b[1;33m]\u001b[0m\u001b[1;33m.\u001b[0m\u001b[0mkeys\u001b[0m\u001b[1;33m(\u001b[0m\u001b[1;33m)\u001b[0m\u001b[1;33m)\u001b[0m\u001b[1;33m\u001b[0m\u001b[1;33m\u001b[0m\u001b[0m\n\u001b[0;32m     30\u001b[0m \u001b[1;33m\u001b[0m\u001b[0m\n",
      "\u001b[1;32m~\\Documents\\homework\\2_grade\\과제연구\\apply_subject.py\u001b[0m in \u001b[0;36mapply\u001b[1;34m(stud, nosd, nob, time, fix)\u001b[0m\n\u001b[0;32m     56\u001b[0m                 \u001b[1;32mif\u001b[0m \u001b[0mlen\u001b[0m\u001b[1;33m(\u001b[0m\u001b[0mclass_list\u001b[0m\u001b[1;33m)\u001b[0m \u001b[1;33m>\u001b[0m \u001b[1;36m0\u001b[0m\u001b[1;33m:\u001b[0m\u001b[1;33m\u001b[0m\u001b[1;33m\u001b[0m\u001b[0m\n\u001b[0;32m     57\u001b[0m                     \u001b[0mr2\u001b[0m \u001b[1;33m=\u001b[0m \u001b[0mrandom\u001b[0m\u001b[1;33m.\u001b[0m\u001b[0mchoice\u001b[0m\u001b[1;33m(\u001b[0m\u001b[0mclass_list\u001b[0m\u001b[1;33m)\u001b[0m\u001b[1;33m\u001b[0m\u001b[1;33m\u001b[0m\u001b[0m\n\u001b[1;32m---> 58\u001b[1;33m                     \u001b[0mresult_\u001b[0m\u001b[1;33m[\u001b[0m\u001b[0mnum\u001b[0m\u001b[1;33m]\u001b[0m\u001b[1;33m[\u001b[0m\u001b[0mre_sub\u001b[0m\u001b[1;33m[\u001b[0m\u001b[0msub\u001b[0m\u001b[1;33m]\u001b[0m\u001b[1;33m[\u001b[0m\u001b[0mr2\u001b[0m\u001b[1;33m]\u001b[0m\u001b[1;33m[\u001b[0m\u001b[1;36m0\u001b[0m\u001b[1;33m]\u001b[0m\u001b[1;33m]\u001b[0m \u001b[1;33m=\u001b[0m \u001b[1;33m[\u001b[0m\u001b[0msub\u001b[0m\u001b[1;33m,\u001b[0m \u001b[0mr2\u001b[0m\u001b[1;33m]\u001b[0m  \u001b[1;31m# {블럭 : [과목, 분반]}, 각 인덱스는 학생\u001b[0m\u001b[1;33m\u001b[0m\u001b[1;33m\u001b[0m\u001b[0m\n\u001b[0m\u001b[0;32m     59\u001b[0m                     \u001b[0mre_sub\u001b[0m\u001b[1;33m[\u001b[0m\u001b[0msub\u001b[0m\u001b[1;33m]\u001b[0m\u001b[1;33m[\u001b[0m\u001b[0mr2\u001b[0m\u001b[1;33m]\u001b[0m\u001b[1;33m[\u001b[0m\u001b[1;36m1\u001b[0m\u001b[1;33m]\u001b[0m \u001b[1;33m-=\u001b[0m \u001b[1;36m1\u001b[0m\u001b[1;33m\u001b[0m\u001b[1;33m\u001b[0m\u001b[0m\n\u001b[0;32m     60\u001b[0m     \u001b[1;32mreturn\u001b[0m \u001b[0mresult_\u001b[0m\u001b[1;33m\u001b[0m\u001b[1;33m\u001b[0m\u001b[0m\n",
      "\u001b[1;31mKeyboardInterrupt\u001b[0m: "
     ]
    }
   ],
   "source": [
    "fit_list = temp.evolution()"
   ]
  },
  {
   "cell_type": "code",
   "execution_count": 6,
   "id": "87207a07",
   "metadata": {
    "ExecuteTime": {
     "end_time": "2021-08-29T15:34:04.002324Z",
     "start_time": "2021-08-29T15:34:02.428861Z"
    }
   },
   "outputs": [
    {
     "ename": "NameError",
     "evalue": "name 'fit_list' is not defined",
     "output_type": "error",
     "traceback": [
      "\u001b[1;31m---------------------------------------------------------------------------\u001b[0m",
      "\u001b[1;31mNameError\u001b[0m                                 Traceback (most recent call last)",
      "\u001b[1;32mC:\\Users\\Public\\Documents\\ESTsoft\\CreatorTemp/ipykernel_13124/3330532041.py\u001b[0m in \u001b[0;36m<module>\u001b[1;34m\u001b[0m\n\u001b[0;32m      2\u001b[0m \u001b[1;32mimport\u001b[0m \u001b[0mnumpy\u001b[0m \u001b[1;32mas\u001b[0m \u001b[0mnp\u001b[0m\u001b[1;33m\u001b[0m\u001b[1;33m\u001b[0m\u001b[0m\n\u001b[0;32m      3\u001b[0m \u001b[1;33m\u001b[0m\u001b[0m\n\u001b[1;32m----> 4\u001b[1;33m \u001b[0mplt\u001b[0m\u001b[1;33m.\u001b[0m\u001b[0mplot\u001b[0m\u001b[1;33m(\u001b[0m\u001b[0mfit_list\u001b[0m\u001b[1;33m)\u001b[0m\u001b[1;33m\u001b[0m\u001b[1;33m\u001b[0m\u001b[0m\n\u001b[0m",
      "\u001b[1;31mNameError\u001b[0m: name 'fit_list' is not defined"
     ]
    }
   ],
   "source": [
    "import matplotlib.pyplot as plt\n",
    "import numpy as np\n",
    "\n",
    "plt.plot(fit_list)"
   ]
  },
  {
   "cell_type": "code",
   "execution_count": 7,
   "id": "769d134d",
   "metadata": {
    "ExecuteTime": {
     "end_time": "2021-08-29T15:34:38.024882Z",
     "start_time": "2021-08-29T15:34:38.011347Z"
    },
    "scrolled": true
   },
   "outputs": [
    {
     "name": "stdout",
     "output_type": "stream",
     "text": [
      "{3: 4}\n"
     ]
    }
   ],
   "source": [
    "a = {1:2, 3:4}\n",
    "del(a[1])\n",
    "print(a)"
   ]
  }
 ],
 "metadata": {
  "kernelspec": {
   "display_name": "Python 3 (ipykernel)",
   "language": "python",
   "name": "python3"
  },
  "language_info": {
   "codemirror_mode": {
    "name": "ipython",
    "version": 3
   },
   "file_extension": ".py",
   "mimetype": "text/x-python",
   "name": "python",
   "nbconvert_exporter": "python",
   "pygments_lexer": "ipython3",
   "version": "3.7.11"
  },
  "toc": {
   "base_numbering": 1,
   "nav_menu": {},
   "number_sections": true,
   "sideBar": true,
   "skip_h1_title": false,
   "title_cell": "Table of Contents",
   "title_sidebar": "Contents",
   "toc_cell": false,
   "toc_position": {},
   "toc_section_display": true,
   "toc_window_display": true
  },
  "varInspector": {
   "cols": {
    "lenName": 16,
    "lenType": 16,
    "lenVar": 40
   },
   "kernels_config": {
    "python": {
     "delete_cmd_postfix": "",
     "delete_cmd_prefix": "del ",
     "library": "var_list.py",
     "varRefreshCmd": "print(var_dic_list())"
    },
    "r": {
     "delete_cmd_postfix": ") ",
     "delete_cmd_prefix": "rm(",
     "library": "var_list.r",
     "varRefreshCmd": "cat(var_dic_list()) "
    }
   },
   "oldHeight": 337.4,
   "position": {
    "height": "337.4px",
    "left": "1180.2px",
    "right": "20px",
    "top": "163px",
    "width": "350px"
   },
   "types_to_exclude": [
    "module",
    "function",
    "builtin_function_or_method",
    "instance",
    "_Feature"
   ],
   "varInspector_section_display": "block",
   "window_display": true
  }
 },
 "nbformat": 4,
 "nbformat_minor": 5
}
